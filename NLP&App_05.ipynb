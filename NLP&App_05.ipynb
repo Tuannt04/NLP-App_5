{
  "nbformat": 4,
  "nbformat_minor": 0,
  "metadata": {
    "colab": {
      "provenance": []
    },
    "kernelspec": {
      "name": "python3",
      "display_name": "Python 3"
    },
    "language_info": {
      "name": "python"
    }
  },
  "cells": [
    {
      "cell_type": "markdown",
      "source": [
        "#Phần 1: Khám phá Tensor"
      ],
      "metadata": {
        "id": "DBRPZoxPIFBk"
      }
    },
    {
      "cell_type": "markdown",
      "source": [
        "## # Task 1.1: Tạo Tensor"
      ],
      "metadata": {
        "id": "RcCvl5h7ITEd"
      }
    },
    {
      "cell_type": "code",
      "execution_count": 8,
      "metadata": {
        "colab": {
          "base_uri": "https://localhost:8080/"
        },
        "id": "BZNMS8_3HEp_",
        "outputId": "c38a26f4-75e7-4a2f-b5f1-198e86a5ecf9"
      },
      "outputs": [
        {
          "output_type": "stream",
          "name": "stdout",
          "text": [
            "Tensor từ list:\n",
            "tensor([[1, 2],\n",
            "        [3, 4]])\n",
            "\n",
            "Tensor từ NumPy array:\n",
            "tensor([[1, 2],\n",
            "        [3, 4]])\n",
            "\n",
            "Ones Tensor:\n",
            "tensor([[1, 1],\n",
            "        [1, 1]])\n",
            "\n",
            "Random Tensor:\n",
            "tensor([[0.6267, 0.6849],\n",
            "        [0.8107, 0.5239]])\n",
            "\n",
            "Shape của tensor: torch.Size([2, 2])\n",
            "Datatype của tensor: torch.float32\n",
            "Device lưu trữ tensor: cpu\n"
          ]
        }
      ],
      "source": [
        "import torch\n",
        "import numpy as np\n",
        "\n",
        "# Tạo tensor từ list\n",
        "data = [[1, 2], [3, 4]]\n",
        "x_data = torch.tensor(data)\n",
        "print(f\"Tensor từ list:\\n{x_data}\\n\")\n",
        "\n",
        "# Tạo tensor từ NumPy array\n",
        "np_array = np.array(data)\n",
        "x_np = torch.from_numpy(np_array)\n",
        "print(f\"Tensor từ NumPy array:\\n{x_np}\\n\")\n",
        "\n",
        "# Tạo tensor với các giá trị ngẫu nhiên hoặc hằng số\n",
        "x_ones = torch.ones_like(x_data)  # tạo tensor gồm toàn 1, cùng shape\n",
        "print(f\"Ones Tensor:\\n{x_ones}\\n\")\n",
        "\n",
        "x_rand = torch.rand_like(x_data, dtype=torch.float)  # tạo tensor ngẫu nhiên\n",
        "print(f\"Random Tensor:\\n{x_rand}\\n\")\n",
        "\n",
        "# In ra shape, dtype, và device của tensor\n",
        "print(f\"Shape của tensor: {x_rand.shape}\")\n",
        "print(f\"Datatype của tensor: {x_rand.dtype}\")\n",
        "print(f\"Device lưu trữ tensor: {x_rand.device}\")\n"
      ]
    },
    {
      "cell_type": "markdown",
      "source": [
        "## Task 1.2: Các phép toán trên Tensor"
      ],
      "metadata": {
        "id": "uslEUWdVIcMU"
      }
    },
    {
      "cell_type": "code",
      "source": [
        "import torch\n",
        "\n",
        "data = [[1, 2], [3, 4]]\n",
        "x_data = torch.tensor(data, dtype=torch.float)\n",
        "\n",
        "# 1. Cộng x_data với chính nó\n",
        "add_result = x_data + x_data\n",
        "print(f\"Cộng x_data với chính nó:\\n{add_result}\\n\")\n",
        "\n",
        "# 2. Nhân x_data với 5\n",
        "mul_result = x_data * 5\n",
        "print(f\"Nhân x_data với 5:\\n{mul_result}\\n\")\n",
        "\n",
        "# 3. Nhân ma trận x_data với x_data.T\n",
        "matmul_result = x_data @ x_data.T\n",
        "print(f\"Nhân ma trận x_data với x_data.T:\\n{matmul_result}\")\n"
      ],
      "metadata": {
        "colab": {
          "base_uri": "https://localhost:8080/"
        },
        "id": "B-B4uOTmHHK4",
        "outputId": "1f10ae04-dee3-4095-eb21-68ede29b6dfb"
      },
      "execution_count": 9,
      "outputs": [
        {
          "output_type": "stream",
          "name": "stdout",
          "text": [
            "Cộng x_data với chính nó:\n",
            "tensor([[2., 4.],\n",
            "        [6., 8.]])\n",
            "\n",
            "Nhân x_data với 5:\n",
            "tensor([[ 5., 10.],\n",
            "        [15., 20.]])\n",
            "\n",
            "Nhân ma trận x_data với x_data.T:\n",
            "tensor([[ 5., 11.],\n",
            "        [11., 25.]])\n"
          ]
        }
      ]
    },
    {
      "cell_type": "markdown",
      "source": [
        "## Task 1.3: Indexing và Slicing"
      ],
      "metadata": {
        "id": "Tsn7jCTqIpZq"
      }
    },
    {
      "cell_type": "code",
      "source": [
        "import torch\n",
        "\n",
        "x_data = torch.tensor([[1, 2], [3, 4]])\n",
        "\n",
        "# 1. Lấy ra hàng đầu tiên\n",
        "first_row = x_data[0]\n",
        "print(f\"Hàng đầu tiên: {first_row}\")\n",
        "\n",
        "# 2. Lấy ra cột thứ hai\n",
        "second_col = x_data[:, 1]\n",
        "print(f\"Cột thứ hai: {second_col}\")\n",
        "\n",
        "# 3. Lấy ra giá trị ở hàng thứ hai, cột thứ hai\n",
        "value_22 = x_data[1, 1]\n",
        "print(f\"Giá trị tại (2,2): {value_22}\")\n"
      ],
      "metadata": {
        "colab": {
          "base_uri": "https://localhost:8080/"
        },
        "id": "Uom9EdzPHJDM",
        "outputId": "1bbbcda3-21ce-46a0-a353-b8aa25471924"
      },
      "execution_count": 10,
      "outputs": [
        {
          "output_type": "stream",
          "name": "stdout",
          "text": [
            "Hàng đầu tiên: tensor([1, 2])\n",
            "Cột thứ hai: tensor([2, 4])\n",
            "Giá trị tại (2,2): 4\n"
          ]
        }
      ]
    },
    {
      "cell_type": "markdown",
      "source": [
        "## Task 1.4: Thay đổi hình dạng Tensor"
      ],
      "metadata": {
        "id": "eix-h5AZItJo"
      }
    },
    {
      "cell_type": "code",
      "source": [
        "import torch\n",
        "\n",
        "x = torch.rand(4, 4)\n",
        "print(f\"Tensor ban đầu (4x4):\\n{x}\\n\")\n",
        "\n",
        "reshaped = x.view(16, 1)\n",
        "print(f\"Tensor sau khi reshape thành (16x1):\\n{reshaped}\")\n"
      ],
      "metadata": {
        "colab": {
          "base_uri": "https://localhost:8080/"
        },
        "id": "t8bYsCcRHKz0",
        "outputId": "7a73a019-4fed-40a4-bc92-271f57ff2e2e"
      },
      "execution_count": 11,
      "outputs": [
        {
          "output_type": "stream",
          "name": "stdout",
          "text": [
            "Tensor ban đầu (4x4):\n",
            "tensor([[0.8610, 0.6586, 0.9890, 0.6545],\n",
            "        [0.0434, 0.2106, 0.6556, 0.8412],\n",
            "        [0.2154, 0.1645, 0.5989, 0.4789],\n",
            "        [0.0361, 0.6517, 0.6137, 0.2758]])\n",
            "\n",
            "Tensor sau khi reshape thành (16x1):\n",
            "tensor([[0.8610],\n",
            "        [0.6586],\n",
            "        [0.9890],\n",
            "        [0.6545],\n",
            "        [0.0434],\n",
            "        [0.2106],\n",
            "        [0.6556],\n",
            "        [0.8412],\n",
            "        [0.2154],\n",
            "        [0.1645],\n",
            "        [0.5989],\n",
            "        [0.4789],\n",
            "        [0.0361],\n",
            "        [0.6517],\n",
            "        [0.6137],\n",
            "        [0.2758]])\n"
          ]
        }
      ]
    },
    {
      "cell_type": "markdown",
      "source": [
        "# 2. Tự động tính Đạo hàm với autograd"
      ],
      "metadata": {
        "id": "odi7mzYPHNcq"
      }
    },
    {
      "cell_type": "markdown",
      "source": [
        "## Task 2.1: Tự động tính đạo hàm với autograd"
      ],
      "metadata": {
        "id": "G3gT6HEkI2WR"
      }
    },
    {
      "cell_type": "code",
      "source": [
        "import torch\n",
        "\n",
        "# Tạo một tensor và yêu cầu tính đạo hàm\n",
        "x = torch.ones(1, requires_grad=True)\n",
        "print(f\"x: {x}\")\n",
        "\n",
        "# Thực hiện phép toán\n",
        "y = x + 2\n",
        "print(f\"y: {y}\")\n",
        "print(f\"grad_fn của y: {y.grad_fn}\")\n",
        "\n",
        "# Thực hiện thêm phép toán\n",
        "z = y * y * 3\n",
        "\n",
        "# Tính đạo hàm của z theo x\n",
        "z.backward()\n",
        "\n",
        "print(f\"Đạo hàm của z theo x: {x.grad}\")"
      ],
      "metadata": {
        "colab": {
          "base_uri": "https://localhost:8080/"
        },
        "id": "i_KsdVdoHPPW",
        "outputId": "a6b96434-3dc6-4821-a338-ab13d96e4aed"
      },
      "execution_count": 12,
      "outputs": [
        {
          "output_type": "stream",
          "name": "stdout",
          "text": [
            "x: tensor([1.], requires_grad=True)\n",
            "y: tensor([3.], grad_fn=<AddBackward0>)\n",
            "grad_fn của y: <AddBackward0 object at 0x7ee5ffce9360>\n",
            "Đạo hàm của z theo x: tensor([18.])\n"
          ]
        }
      ]
    },
    {
      "cell_type": "markdown",
      "source": [
        "# 3. Xây dựng Mô hình đầu tiên với torch.nn"
      ],
      "metadata": {
        "id": "Sq4XTNDkHS4Q"
      }
    },
    {
      "cell_type": "markdown",
      "source": [
        "# Task 3.1: Lớp nn.Linear"
      ],
      "metadata": {
        "id": "zUh1dwSIJD_k"
      }
    },
    {
      "cell_type": "code",
      "source": [
        "import torch\n",
        "\n",
        "# Khởi tạo lớp Linear 5 -> 2\n",
        "linear_layer = torch.nn.Linear(in_features=5, out_features=2)\n",
        "\n",
        "# Tạo đầu vào mẫu\n",
        "input_tensor = torch.randn(3, 5)  # 3 mẫu, mỗi mẫu 5 chiều\n",
        "output = linear_layer(input_tensor)\n",
        "\n",
        "print(f\"Input shape: {input_tensor.shape}\")\n",
        "print(f\"Output shape: {output.shape}\")\n",
        "print(f\"Output:\\n{output}\")\n"
      ],
      "metadata": {
        "colab": {
          "base_uri": "https://localhost:8080/"
        },
        "id": "GDXtTv6HHTct",
        "outputId": "a7e0db34-f610-476f-9481-3a0c97e3e3d5"
      },
      "execution_count": 13,
      "outputs": [
        {
          "output_type": "stream",
          "name": "stdout",
          "text": [
            "Input shape: torch.Size([3, 5])\n",
            "Output shape: torch.Size([3, 2])\n",
            "Output:\n",
            "tensor([[-0.3336, -0.2342],\n",
            "        [ 0.0435,  0.6797],\n",
            "        [-0.8468,  0.4001]], grad_fn=<AddmmBackward0>)\n"
          ]
        }
      ]
    },
    {
      "cell_type": "markdown",
      "source": [
        "# Task 3.2: Lớp nn.Embedding"
      ],
      "metadata": {
        "id": "6omPmmfhJGfe"
      }
    },
    {
      "cell_type": "code",
      "source": [
        "import torch\n",
        "\n",
        "# Tạo lớp Embedding cho 10 từ, mỗi từ biểu diễn bằng vector 3 chiều\n",
        "embedding_layer = torch.nn.Embedding(num_embeddings=10, embedding_dim=3)\n",
        "\n",
        "# Tạo tensor chỉ số từ (mỗi giá trị < 10)\n",
        "input_indices = torch.LongTensor([1, 5, 0, 8])\n",
        "\n",
        "# Lấy vector embedding tương ứng\n",
        "embeddings = embedding_layer(input_indices)\n",
        "\n",
        "print(f\"Input shape: {input_indices.shape}\")\n",
        "print(f\"Output shape: {embeddings.shape}\")\n",
        "print(f\"Embeddings:\\n{embeddings}\")\n"
      ],
      "metadata": {
        "colab": {
          "base_uri": "https://localhost:8080/"
        },
        "id": "1V183L0EHWTb",
        "outputId": "966bc1ae-b886-4e39-a271-97ba1bbd4aec"
      },
      "execution_count": 14,
      "outputs": [
        {
          "output_type": "stream",
          "name": "stdout",
          "text": [
            "Input shape: torch.Size([4])\n",
            "Output shape: torch.Size([4, 3])\n",
            "Embeddings:\n",
            "tensor([[ 1.9784,  1.0431,  0.0301],\n",
            "        [ 1.0138, -0.1661, -0.6852],\n",
            "        [ 1.0022,  0.9331, -0.6132],\n",
            "        [ 0.6162, -0.3981,  0.9029]], grad_fn=<EmbeddingBackward0>)\n"
          ]
        }
      ]
    },
    {
      "cell_type": "markdown",
      "source": [
        "# Task 3.3: Kết hợp thành một nn.Module"
      ],
      "metadata": {
        "id": "KST-uJyXJJVc"
      }
    },
    {
      "cell_type": "code",
      "source": [
        "import torch\n",
        "from torch import nn\n",
        "\n",
        "class MyFirstModel(nn.Module):\n",
        "    def __init__(self, vocab_size, embedding_dim, hidden_dim, output_dim):\n",
        "        super(MyFirstModel, self).__init__()\n",
        "        self.embedding = nn.Embedding(vocab_size, embedding_dim)\n",
        "        self.linear = nn.Linear(embedding_dim, hidden_dim)\n",
        "        self.activation = nn.ReLU()\n",
        "        self.output_layer = nn.Linear(hidden_dim, output_dim)\n",
        "\n",
        "    def forward(self, indices):\n",
        "        embeds = self.embedding(indices)\n",
        "        hidden = self.activation(self.linear(embeds))\n",
        "        output = self.output_layer(hidden)\n",
        "        return output\n",
        "\n",
        "# Khởi tạo mô hình\n",
        "model = MyFirstModel(vocab_size=100, embedding_dim=16, hidden_dim=8, output_dim=2)\n",
        "\n",
        "# Dữ liệu đầu vào mẫu\n",
        "input_data = torch.LongTensor([[1, 2, 5, 9]])\n",
        "output_data = model(input_data)\n",
        "\n",
        "print(f\"Model output shape: {output_data.shape}\")\n",
        "print(f\"Model output:\\n{output_data}\")\n"
      ],
      "metadata": {
        "colab": {
          "base_uri": "https://localhost:8080/"
        },
        "id": "kOH2T0NsHYZ2",
        "outputId": "77f76f3a-5a81-47e4-8030-2f6ec0ad7b32"
      },
      "execution_count": 15,
      "outputs": [
        {
          "output_type": "stream",
          "name": "stdout",
          "text": [
            "Model output shape: torch.Size([1, 4, 2])\n",
            "Model output:\n",
            "tensor([[[ 0.2238, -0.1658],\n",
            "         [-0.2160, -0.0153],\n",
            "         [ 0.1426, -0.1605],\n",
            "         [ 0.5413, -0.3138]]], grad_fn=<ViewBackward0>)\n"
          ]
        }
      ]
    }
  ]
}